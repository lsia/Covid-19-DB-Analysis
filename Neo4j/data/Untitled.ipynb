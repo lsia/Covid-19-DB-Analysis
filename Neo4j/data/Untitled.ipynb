{
 "cells": [
  {
   "cell_type": "code",
   "execution_count": 2,
   "metadata": {},
   "outputs": [],
   "source": [
    "import pandas as pd\n",
    "import numpy as np"
   ]
  },
  {
   "cell_type": "code",
   "execution_count": 3,
   "metadata": {},
   "outputs": [],
   "source": [
    "this_file = 'com-friendster.ungraph.txt.gz'\n",
    "column_names = ['FROM','TO',]\n",
    "dtype={'FROM': np.int32, \n",
    "       'TO': np.int32,\n",
    "      }"
   ]
  },
  {
   "cell_type": "code",
   "execution_count": 4,
   "metadata": {},
   "outputs": [],
   "source": [
    "#read_file = pd.read_csv (this_file, sep=\"\\t\")"
   ]
  },
  {
   "cell_type": "code",
   "execution_count": 5,
   "metadata": {},
   "outputs": [],
   "source": [
    "df_iterator = pd.read_csv(this_file, sep=\"\\t\",\n",
    "                        skiprows=4, \n",
    "                        compression='gzip',\n",
    "                        chunksize=10000000, \n",
    "                        header=None,\n",
    "                        names = column_names,\n",
    "                        dtype=dtype,\n",
    "                     )"
   ]
  },
  {
   "cell_type": "code",
   "execution_count": null,
   "metadata": {},
   "outputs": [
    {
     "name": "stdout",
     "output_type": "stream",
     "text": [
      "1\n",
      "2\n",
      "3\n",
      "4\n",
      "5\n",
      "6\n",
      "7\n",
      "8\n",
      "9\n",
      "10\n",
      "11\n",
      "12\n",
      "13\n",
      "14\n",
      "15\n",
      "16\n",
      "17\n",
      "18\n",
      "19\n",
      "20\n",
      "21\n",
      "22\n",
      "23\n",
      "24\n",
      "25\n",
      "26\n",
      "27\n",
      "28\n",
      "29\n",
      "30\n",
      "31\n",
      "32\n",
      "33\n",
      "34\n",
      "35\n"
     ]
    }
   ],
   "source": [
    "users = set()\n",
    "count = 0\n",
    "\n",
    "for df in df_iterator:\n",
    "    users.update(df['FROM'].unique())\n",
    "    users.update(df['TO'].unique())\n",
    "    df.to_csv('friendster-relations'+'_'+ str(count) +'.csv.gz', compression='gzip', index=False)\n",
    "    count= count + 1\n",
    "    print (count)\n",
    "print ('Done writing relationships')\n",
    "df.to_csv('friendster-users.csv.gz', compression='gzip', index=False)\n",
    "print ('Done writing users')"
   ]
  },
  {
   "cell_type": "code",
   "execution_count": null,
   "metadata": {},
   "outputs": [],
   "source": []
  }
 ],
 "metadata": {
  "kernelspec": {
   "display_name": "Python 3",
   "language": "python",
   "name": "python3"
  },
  "language_info": {
   "codemirror_mode": {
    "name": "ipython",
    "version": 3
   },
   "file_extension": ".py",
   "mimetype": "text/x-python",
   "name": "python",
   "nbconvert_exporter": "python",
   "pygments_lexer": "ipython3",
   "version": "3.7.4"
  }
 },
 "nbformat": 4,
 "nbformat_minor": 2
}
